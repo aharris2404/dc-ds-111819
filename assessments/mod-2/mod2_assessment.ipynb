{
 "cells": [
  {
   "cell_type": "markdown",
   "metadata": {},
   "source": [
    "# Mod 2 Assessment"
   ]
  },
  {
   "cell_type": "markdown",
   "metadata": {},
   "source": [
    "### Congratulations on making it to your second assessment! Just a few reminders before you continue:\n",
    "- This should only take ~70 Minutes, so be sure to manage your time effectively.\n",
    "- Read the instructions carefully for _specified variable names_."
   ]
  },
  {
   "cell_type": "markdown",
   "metadata": {},
   "source": [
    "If there is any confusion on a question, please ask for clarification from an instructor. </br>Though we can't give you the answer, we can help clear up any misunderstandings and get you back on track."
   ]
  },
  {
   "cell_type": "code",
   "execution_count": 85,
   "metadata": {},
   "outputs": [],
   "source": [
    "# You'll need these imports to start.\n",
    "import pymongo\n",
    "from bson.json_util import loads\n",
    "from collections import Counter\n",
    "\n",
    "# put all of your additional imports here:\n",
    "\n",
    "import pandas as pd\n",
    "from bs4 import BeautifulSoup as bs\n",
    "import sqlite3\n",
    "import requests\n"
   ]
  },
  {
   "cell_type": "markdown",
   "metadata": {},
   "source": [
    "## Section 0: Coding Readibility (5 Minutes)\n",
    "Fix the errors in the code below, and rewrite using best practices (hint: don't forget to consider improving variable names).  The final output should BOTH print all variables AND return the list of all the tuples:\n",
    "```python\n",
    "def blabla():\n",
    "for i in range ( 10 ):for j in range( 10 ):for k in range(10): print( i,j,k ) return ( i,j,k )\n",
    "```"
   ]
  },
  {
   "cell_type": "code",
   "execution_count": 68,
   "metadata": {},
   "outputs": [],
   "source": [
    "def blabla():\n",
    "    \n",
    "    answer = []\n",
    "    \n",
    "    for i in range(10):\n",
    "        for j in range(10):\n",
    "            for k in range(10):\n",
    "                print(i, j, k)\n",
    "                answer.append((i, j, k))\n",
    "    return answer"
   ]
  },
  {
   "cell_type": "markdown",
   "metadata": {},
   "source": [
    "## Section 1: SQL (10 Minutes)\n",
    "There is a sqlite3 database in `assets/books.db`. The SQL to create this is also in `assets/books.sql`; if you want to run it manually you can also import this using https://sqliteonline.com/, or run the SQL file directly.  Both have the same schema and data.\n",
    "\n",
    "The schema has three tables. You can explore the schema in the file posted above.  Please answer the following questions.\n",
    "\n",
    "Connect to the database using sqlite3. <br/>\n",
    "Assign `conn` to the sqlite3 connection <br/>\n",
    "Assign `cur`  to the connection's cursor object"
   ]
  },
  {
   "cell_type": "code",
   "execution_count": 69,
   "metadata": {},
   "outputs": [
    {
     "name": "stdout",
     "output_type": "stream",
     "text": [
      "books.db  books.sql  grades.jsonl\r\n"
     ]
    }
   ],
   "source": [
    "!ls assets"
   ]
  },
  {
   "cell_type": "code",
   "execution_count": 70,
   "metadata": {},
   "outputs": [],
   "source": [
    "conn = sqlite3.connect('assets/books.db')\n",
    "cur = conn.cursor()"
   ]
  },
  {
   "cell_type": "markdown",
   "metadata": {},
   "source": [
    "#### Querying the DB: "
   ]
  },
  {
   "cell_type": "markdown",
   "metadata": {},
   "source": [
    "1. How many pages are in the book \"Nine Stories\"?"
   ]
  },
  {
   "cell_type": "code",
   "execution_count": 71,
   "metadata": {},
   "outputs": [
    {
     "name": "stdout",
     "output_type": "stream",
     "text": [
      "600\n"
     ]
    }
   ],
   "source": [
    "# Assign `answer_1` to your final answer\n",
    "statement = \"\"\"\n",
    "\n",
    "SELECT pages\n",
    "FROM book\n",
    "WHERE title=\"Nine Stories\"\n",
    "\n",
    "\"\"\"\n",
    "\n",
    "cur.execute(statement)\n",
    "info = cur.fetchall()\n",
    "\n",
    "answer_1 = info[0][0]\n",
    "print(answer_1)"
   ]
  },
  {
   "cell_type": "markdown",
   "metadata": {},
   "source": [
    "2. How many authors are from the USA?"
   ]
  },
  {
   "cell_type": "code",
   "execution_count": 72,
   "metadata": {},
   "outputs": [
    {
     "name": "stdout",
     "output_type": "stream",
     "text": [
      "(6,)\n",
      "6\n"
     ]
    }
   ],
   "source": [
    "# Assign `answer_2` to your final answer\n",
    "statement = \"\"\"\n",
    "\n",
    "SELECT COUNT(*)\n",
    "FROM author\n",
    "WHERE country=\"USA\"\n",
    "\n",
    "\"\"\"\n",
    "\n",
    "cur.execute(statement)\n",
    "info = cur.fetchall()\n",
    "print(*info, sep = \"\\n\") \n",
    "\n",
    "answer_2 = info[0][0]\n",
    "print(answer_2)"
   ]
  },
  {
   "cell_type": "markdown",
   "metadata": {},
   "source": [
    "3. How many authors does the book \"Professional ASP.NET 4.5 in C# and VB\" have?"
   ]
  },
  {
   "cell_type": "code",
   "execution_count": 73,
   "metadata": {},
   "outputs": [
    {
     "name": "stdout",
     "output_type": "stream",
     "text": [
      "(5,)\n"
     ]
    }
   ],
   "source": [
    "# Assign `answer_3` to your final answer\n",
    "statement = \"\"\"\n",
    "\n",
    "SELECT COUNT(ba.author_id)\n",
    "FROM book_author ba\n",
    "JOIN book b ON ba.book_id=b.book_id\n",
    "WHERE b.book_id=7\n",
    "\n",
    "\"\"\"\n",
    "\n",
    "cur.execute(statement)\n",
    "info = cur.fetchall()\n",
    "print(*info, sep = \"\\n\")\n",
    "answer_3 = info[0][0]"
   ]
  },
  {
   "cell_type": "markdown",
   "metadata": {},
   "source": [
    "4. How many pages total have been written by non-American authors?"
   ]
  },
  {
   "cell_type": "code",
   "execution_count": 74,
   "metadata": {},
   "outputs": [
    {
     "name": "stdout",
     "output_type": "stream",
     "text": [
      "(30003,)\n",
      "30003\n"
     ]
    }
   ],
   "source": [
    "# Assign `answer_4` to your final answer\n",
    "\n",
    "statement = \"\"\"\n",
    "\n",
    "SELECT SUM(b.pages)\n",
    "FROM book b\n",
    "JOIN (\n",
    "    SELECT ba.author_id, ba.book_id, a.country\n",
    "    FROM book_author ba\n",
    "    JOIN author a ON ba.author_id=a.author_id\n",
    "    WHERE a.country!=\"USA\"\n",
    "    ) joined\n",
    "ON b.book_id=joined.book_id\n",
    "\n",
    "\"\"\"\n",
    "\n",
    "cur.execute(statement)\n",
    "info = cur.fetchall()\n",
    "print(*info, sep = \"\\n\")\n",
    "\n",
    "answer_4 = info[0][0]\n",
    "print(answer_4)"
   ]
  },
  {
   "cell_type": "markdown",
   "metadata": {},
   "source": [
    "## Section 2: Object Oriented Programming (15 Minutes)"
   ]
  },
  {
   "cell_type": "markdown",
   "metadata": {},
   "source": [
    "### Creating a Class\n",
    "1. Force every new instance of `WeWorkMember` to expect a value which is assigned to the `name` **attribute**.\n",
    "1. Give every new instance of `WeWorkMember` a `caffeinated` **attribute** that is set to `False`. \n",
    "1. Give `WeWorkMember` an **instance method** called `caffeinate()` that prints out \"Getting coffee!\" and sets the `caffeinated` attribute to `True`."
   ]
  },
  {
   "cell_type": "code",
   "execution_count": 75,
   "metadata": {},
   "outputs": [],
   "source": [
    "class WeWorkMember:\n",
    "    \n",
    "    def __init__(self, name):\n",
    "        self.name = name\n",
    "        self.caffeinated = False\n",
    "        \n",
    "    def caffeinate(self):\n",
    "        print(\"Getting coffee!\")\n",
    "        self.caffeinated = True"
   ]
  },
  {
   "cell_type": "markdown",
   "metadata": {},
   "source": [
    "### Inheriting from a Class\n",
    "\n",
    "1. Have `Staff` and `Student` inherit all methods from `WeWorkMember`\n",
    "1. Give `Staff` a **static method** called `cheer()` that prints out \"Goooooooo Flatiron Students!\"\n",
    "1. Give `Students` a **class method** called `learn()` that takes in an integer and returns that number +1"
   ]
  },
  {
   "cell_type": "code",
   "execution_count": 76,
   "metadata": {},
   "outputs": [],
   "source": [
    "class Staff(WeWorkMember):\n",
    "    \n",
    "    @staticmethod\n",
    "    def cheer():\n",
    "        print(\"Goooooooo Flatiron Students!\")\n",
    "\n",
    "class Student(WeWorkMember):\n",
    "    \n",
    "    @classmethod\n",
    "    def learn(cls, num):\n",
    "        if type(num)==int:\n",
    "            return num+1\n",
    "        else:\n",
    "            raise TypeError"
   ]
  },
  {
   "cell_type": "code",
   "execution_count": 79,
   "metadata": {},
   "outputs": [],
   "source": [
    "Andy = Staff('Andy')\n",
    "Andrew = Student('Student')"
   ]
  },
  {
   "cell_type": "markdown",
   "metadata": {},
   "source": [
    "## Section 3: APIs & Web Scraping\n",
    "### APIs (10 Minutes)\n",
    "Using the API about RuPaul's Drag Race, tell me how many judges of each **`type`** there were in the **first 50 records** the API returns.\n",
    "\n",
    "API: http://www.nokeynoshade.party/api/judges </br>\n",
    "Docs: https://drag-race-api.readme.io/docs/get-all-judges\n",
    "\n",
    " - Assign `rupaul_resp` to the response of the API request.\n",
    " - Ensure the request only returns the first 50 records; the judges will have **`id`** ranging from 1 to 50\n",
    " - Do the aggregation in pure Python, Pandas, or SQL -- whatever's easiest for you\n",
    " - Assign `judge_count` to a dictionary with the number of judges for each type"
   ]
  },
  {
   "cell_type": "code",
   "execution_count": 112,
   "metadata": {},
   "outputs": [
    {
     "data": {
      "text/plain": [
       "47"
      ]
     },
     "execution_count": 112,
     "metadata": {},
     "output_type": "execute_result"
    }
   ],
   "source": [
    "parameters = {'limit': 50}\n",
    "\n",
    "rupaul_resp = requests.get(\"http://www.nokeynoshade.party/api/judges\", params=parameters)\n",
    "\n",
    "new_json = rupaul_resp.json()\n",
    "\n",
    "def aggregate_types(json):\n",
    "    answer = list()\n",
    "    \n",
    "    for judge in json:\n",
    "        answer.append(judge['type'])\n",
    "        \n",
    "    return answer\n",
    "\n",
    "new_series = pd.Series(aggregate_types(new_json))\n",
    "judge_type_counts = new_series.value_counts()\n",
    "\n",
    "judge_type_counts['guest']"
   ]
  },
  {
   "cell_type": "code",
   "execution_count": 113,
   "metadata": {},
   "outputs": [
    {
     "name": "stdout",
     "output_type": "stream",
     "text": [
      "{'guest': 47, 'regular': 2, 'interim': 1}\n"
     ]
    }
   ],
   "source": [
    "judge_count = {}\n",
    "\n",
    "for index_name in judge_type_counts.index:\n",
    "    judge_count[index_name] = judge_type_counts[index_name]\n",
    "    \n",
    "print(judge_count)"
   ]
  },
  {
   "cell_type": "markdown",
   "metadata": {},
   "source": [
    "### Web Scraping (15 Minutes)\n",
    "Scrape the website [http://books.toscrape.com/](http://books.toscrape.com/) and save it to the `book_resp` variable. Then use BeautifulSoup to convert the response to data we can work with.\n",
    "\n",
    "- Set the response to a variable named `book_resp`\n",
    "- Set the BeautifulSoup() object to a variable named `book_soup`"
   ]
  },
  {
   "cell_type": "code",
   "execution_count": 160,
   "metadata": {},
   "outputs": [],
   "source": [
    "book_resp = requests.get(\"http://books.toscrape.com/\")\n",
    "\n",
    "soup = bs(book_resp.content, 'html.parser')\n",
    "books = soup.find_all(\"li\", class_=\"col-xs-6 col-sm-4 col-md-3 col-lg-3\")\n",
    "\n",
    "list_soup = soup.find_all(\"li\", class_=\"col-xs-6 col-sm-4 col-md-3 col-lg-3\")\n",
    "\n",
    "new_col1 = []\n",
    "\n",
    "for soup_object in list_soup:\n",
    "    new_col1.append(soup_object.find(\"a\"))\n",
    "    \n",
    "new_series = pd.Series(new_col1)"
   ]
  },
  {
   "cell_type": "markdown",
   "metadata": {},
   "source": [
    "## Section 4: NoSQL (10 Minutes)\n",
    "\n",
    "#### Load data from `assets/grades.json` into Mongo \n",
    "\n",
    "(this code is written for you)"
   ]
  },
  {
   "cell_type": "code",
   "execution_count": 128,
   "metadata": {},
   "outputs": [
    {
     "data": {
      "text/plain": [
       "<pymongo.results.InsertManyResult at 0x7f6f4bf2b1e0>"
      ]
     },
     "execution_count": 128,
     "metadata": {},
     "output_type": "execute_result"
    }
   ],
   "source": [
    "# you shouldn't need to edit this cell!\n",
    "db_name = \"mod2db\"\n",
    "\n",
    "with open('assets/grades.jsonl') as f:\n",
    "    # loads() comes from the bson library\n",
    "    file_data = [loads(line) for line in f.readlines()]\n",
    "\n",
    "client = pymongo.MongoClient(\"mongodb://localhost:27017/\")\n",
    "client.drop_database(db_name)\n",
    "db = client[db_name]\n",
    "coll = db[\"testcoll\"]\n",
    "\n",
    "coll.insert_many(file_data)"
   ]
  },
  {
   "cell_type": "markdown",
   "metadata": {},
   "source": [
    "#### Answer all of the following questions by querying Mongo and manipulating the results in Python"
   ]
  },
  {
   "cell_type": "markdown",
   "metadata": {},
   "source": [
    "1. How many records are there total?"
   ]
  },
  {
   "cell_type": "code",
   "execution_count": 130,
   "metadata": {},
   "outputs": [],
   "source": [
    "nosql_answer1 = coll.count_documents({})"
   ]
  },
  {
   "cell_type": "markdown",
   "metadata": {},
   "source": [
    "2. How many students have taken the class with `class_id` = **29**?"
   ]
  },
  {
   "cell_type": "code",
   "execution_count": 132,
   "metadata": {},
   "outputs": [
    {
     "name": "stdout",
     "output_type": "stream",
     "text": [
      "9\n"
     ]
    }
   ],
   "source": [
    "# Set `nosql_answer2` to your final answer\n",
    "nosql_answer2 = coll.count_documents({\"class_id\": 29})"
   ]
  },
  {
   "cell_type": "markdown",
   "metadata": {},
   "source": [
    " "
   ]
  },
  {
   "cell_type": "markdown",
   "metadata": {},
   "source": [
    "3. </br>For student **12** in class **23**, what grade did they get on their exam?"
   ]
  },
  {
   "cell_type": "code",
   "execution_count": 140,
   "metadata": {},
   "outputs": [
    {
     "name": "stdout",
     "output_type": "stream",
     "text": [
      "26.9857216299485\n"
     ]
    }
   ],
   "source": [
    "# Set `nosql_answer3` to your final answer\n",
    "student_12_class_23 = coll.find_one({\"student_id\": 12, \"class_id\": 23})\n",
    "\n",
    "for score_dict in student_12_class_23['scores']:\n",
    "    if score_dict['type']=='exam':\n",
    "        answer = score_dict['score']\n",
    "        break\n",
    "        \n",
    "nosql_answer3 = answer\n",
    "\n",
    "print(nosql_answer3)"
   ]
  },
  {
   "cell_type": "markdown",
   "metadata": {},
   "source": [
    " "
   ]
  },
  {
   "cell_type": "code",
   "execution_count": 16,
   "metadata": {},
   "outputs": [],
   "source": [
    "# for when you're done with this portion, this deletes the data we added.\n",
    "client.drop_database(\"mod2db\")"
   ]
  },
  {
   "cell_type": "markdown",
   "metadata": {},
   "source": [
    "## Assessment submission (2 Minutes)\n",
    "Please save your completed file as `mod2_assessment.ipynb` (UNCHANGED) and upload it using [this form](https://docs.google.com/forms/d/e/1FAIpQLSeY0nH0-DF4sQTQ8vBEsjOwLiQaB-JWopmhh7kFef3TOscrWA/viewform?usp=sf_link)"
   ]
  },
  {
   "cell_type": "code",
   "execution_count": null,
   "metadata": {},
   "outputs": [],
   "source": []
  }
 ],
 "metadata": {
  "kernelspec": {
   "display_name": "Python 3",
   "language": "python",
   "name": "python3"
  },
  "language_info": {
   "codemirror_mode": {
    "name": "ipython",
    "version": 3
   },
   "file_extension": ".py",
   "mimetype": "text/x-python",
   "name": "python",
   "nbconvert_exporter": "python",
   "pygments_lexer": "ipython3",
   "version": "3.7.4"
  }
 },
 "nbformat": 4,
 "nbformat_minor": 4
}
